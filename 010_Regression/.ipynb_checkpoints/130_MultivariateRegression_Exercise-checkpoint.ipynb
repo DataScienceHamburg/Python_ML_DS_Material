{
 "cells": [
  {
   "cell_type": "markdown",
   "metadata": {},
   "source": [
    "You will work on airfoil self noise prediction. Data comes from NASA airfoil testing. Airfoil blade sections were tested with regards to sound emission.\n",
    "\n",
    "These are the independent variables:\n",
    "\n",
    "- Frequency, in Hertzs.\n",
    "- Angle of attack, in degrees.\n",
    "- Chord length, in meters.\n",
    "- Free-stream velocity, in meters per second.\n",
    "- Suction side displacement thickness, in meters.\n",
    "\n",
    "The target variable is\n",
    "- Scaled sound pressure level, in decibels\n"
   ]
  },
  {
   "cell_type": "markdown",
   "metadata": {},
   "source": [
    "These are the tasks that you should work on:\n",
    "1. Import required packages\n",
    "2. Import the dataset which is stored under data/airfoil_noise.txt (specialties: tabs as separators, no names provided for columns)\n",
    "3. Explore and understand the data (get summaries, create correlation/pair plots, ...)\n",
    "4. Create a multivariate regression model\n",
    "5. create predictions\n",
    "6. create a correlation plot for actual and predicted sound pressure level\n",
    "7. calculate R**2"
   ]
  },
  {
   "cell_type": "code",
   "execution_count": null,
   "metadata": {},
   "outputs": [],
   "source": []
  }
 ],
 "metadata": {
  "kernelspec": {
   "display_name": "Python 3",
   "language": "python",
   "name": "python3"
  },
  "language_info": {
   "codemirror_mode": {
    "name": "ipython",
    "version": 3
   },
   "file_extension": ".py",
   "mimetype": "text/x-python",
   "name": "python",
   "nbconvert_exporter": "python",
   "pygments_lexer": "ipython3",
   "version": "3.7.3"
  }
 },
 "nbformat": 4,
 "nbformat_minor": 2
}
