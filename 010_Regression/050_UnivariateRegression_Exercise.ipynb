{
 "cells": [
  {
   "cell_type": "markdown",
   "metadata": {},
   "source": [
    "In this tutorial you will take a look at measurements of Hubble (the telescope). Besides taking beautiful pictures, it measured speed and distance of Super-Novae. Similar data was used in 1929 by Hubble (the person) and he found out that there is a linear relationship.\n",
    "\n",
    "\n",
    "He discovered that galaxies appear to move away. This can be visualised with red-shift of spectral lines. This observation was the first indication that the universe expands.\n",
    "\n",
    "You will create a linear model based on observations and create predictions.\n"
   ]
  },
  {
   "cell_type": "markdown",
   "metadata": {},
   "source": [
    "Steps:\n",
    "0. Import required packages\n",
    "1. Import the data\n",
    "2. visualise the data for better understanding\n",
    "3. Create a linear regression model\n",
    "4. create predictions\n",
    "5. calculate the $R^2$ metric\n",
    "6. Bonus: calculate the Hubble Constant: $H_0=\\frac{v}{D}$"
   ]
  },
  {
   "cell_type": "code",
   "execution_count": null,
   "metadata": {},
   "outputs": [],
   "source": []
  }
 ],
 "metadata": {
  "kernelspec": {
   "display_name": "Python 3",
   "language": "python",
   "name": "python3"
  },
  "language_info": {
   "codemirror_mode": {
    "name": "ipython",
    "version": 3
   },
   "file_extension": ".py",
   "mimetype": "text/x-python",
   "name": "python",
   "nbconvert_exporter": "python",
   "pygments_lexer": "ipython3",
   "version": "3.7.3"
  }
 },
 "nbformat": 4,
 "nbformat_minor": 2
}
